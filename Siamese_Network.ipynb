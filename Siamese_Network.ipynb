{
 "cells": [
  {
   "cell_type": "code",
   "execution_count": 1,
   "metadata": {
    "id": "JarkrLReiqHr"
   },
   "outputs": [],
   "source": [
    "# %tensorflow_version 2.x\n",
    "# import tensorflow as tf\n",
    "# device_name = tf.test.gpu_device_name()\n",
    "# if device_name != '/device:GPU:0':\n",
    "#   raise SystemError('GPU device not found')\n",
    "  "
   ]
  },
  {
   "cell_type": "code",
   "execution_count": 2,
   "metadata": {
    "colab": {
     "base_uri": "https://localhost:8080/",
     "height": 320
    },
    "executionInfo": {
     "elapsed": 16338,
     "status": "error",
     "timestamp": 1636786208629,
     "user": {
      "displayName": "Nitin Sharma",
      "photoUrl": "https://lh3.googleusercontent.com/a/default-user=s64",
      "userId": "04463361370995784787"
     },
     "user_tz": -330
    },
    "id": "V1jfcW5NkdiC",
    "outputId": "4e3e3e89-3124-47bb-dab5-7ccdb274844b"
   },
   "outputs": [],
   "source": [
    "# from google.colab import drive\n",
    "# drive.mount('/content/drive')"
   ]
  },
  {
   "cell_type": "code",
   "execution_count": 3,
   "metadata": {
    "id": "MRdC7zgnk4Rv"
   },
   "outputs": [],
   "source": [
    "# !unzip  \"/content/drive/MyDrive/Colab Notebooks/QuestionAnsweringDataset/images_background.zip\"\n",
    "# !unzip \"/content/drive/MyDrive/Colab Notebooks/QuestionAnsweringDataset/images_evaluation.zip\""
   ]
  },
  {
   "cell_type": "markdown",
   "metadata": {
    "id": "Z3idWoldS_0l"
   },
   "source": [
    "# **All Files Path**"
   ]
  },
  {
   "cell_type": "code",
   "execution_count": null,
   "metadata": {
    "id": "EKU-ITXMnSHy"
   },
   "outputs": [],
   "source": [
    "train_folder = \"/content/images_background\"\n",
    "val_folder = '/content/images_evaluation'\n",
    "save_path = '/content/drive/MyDrive/Colab Notebooks/QuestionAnsweringDataset/data'\n",
    "model_checkpoints='/content/drive/MyDrive/Colab Notebooks/QuestionAnsweringDataset/data/checkpoints'"
   ]
  },
  {
   "cell_type": "markdown",
   "metadata": {
    "id": "jdssbHdDTKWN"
   },
   "source": [
    "## **Importing all Packages**"
   ]
  },
  {
   "cell_type": "code",
   "execution_count": 18,
   "metadata": {
    "id": "18mvyHmFonxF"
   },
   "outputs": [],
   "source": [
    "import sys\n",
    "import numpy as np\n",
    "import pandas as pd\n",
    "import pickle\n",
    "import os\n",
    "import matplotlib.pyplot as plt\n",
    "%matplotlib inline\n",
    "\n",
    "import cv2\n",
    "import time\n",
    "import tensorflow as tf\n",
    "from tensorflow import keras\n",
    "from tensorflow.keras.models import Sequential\n",
    "from tensorflow.keras.optimizers import Adam\n",
    "from tensorflow.keras.layers import Conv2D,Input,Concatenate,ZeroPadding2D,Activation,MaxPooling2D,Concatenate,\\\n",
    "Lambda, Flatten, Dense\n",
    "from tensorflow.keras.models import Model\n",
    "#from keras.layers.pooling import MaxPooling2D\n",
    "#from keras.layers.merge import Concatenate\n",
    "#from keras.layers.core import Lambda, Flatten, Dense\n",
    "from keras.initializers import glorot_uniform\n",
    "from tensorflow.keras.layers import Layer,BatchNormalization\n",
    "from keras.regularizers import l2\n",
    "from keras import backend as K\n",
    "\n",
    "from sklearn.utils import shuffle\n",
    "\n",
    "import numpy.random as rng\n",
    "#%pip --quiet install pillow\n",
    "#from scipy.misc import imread\n",
    "#from pillow import imread\n",
    "from PIL import Image"
   ]
  },
  {
   "cell_type": "markdown",
   "metadata": {
    "id": "ZClRenK1Tlvn"
   },
   "source": [
    "## **Laoding Images**"
   ]
  },
  {
   "cell_type": "code",
   "execution_count": 5,
   "metadata": {
    "id": "QIbrooS7p6oR"
   },
   "outputs": [],
   "source": [
    "def load_images(path,n = 0):\n",
    "    #structure of the data is like -- language_type --> letters--> 20 handwritten images of each letter size of (105,105)\n",
    "    '''\n",
    "    path => Path of train directory or test directory\n",
    "    '''\n",
    "    X=[]\n",
    "    y = []\n",
    "    cat_dict = {}\n",
    "    lang_dict = {}\n",
    "    curr_y = n\n",
    "    # we load every alphabet seperately so we can isolate them later\n",
    "    for alphabet in os.listdir(path):\n",
    "        print(\"loading alphabet: \" + alphabet)\n",
    "        lang_dict[alphabet] = [curr_y,None]\n",
    "        alphabet_path = os.path.join(path,alphabet)\n",
    "        # every letter/categor\n",
    "        for letter in os.listdir(alphabet_path):\n",
    "            cat_dict[curr_y] = (alphabet, letter)\n",
    "            category_images=[]\n",
    "            letter_path = os.path.join(alphabet_path, letter)\n",
    "            # read all the images in the current category\n",
    "            for filename in os.listdir(letter_path):\n",
    "                image_path = os.path.join(letter_path, filename)\n",
    "                #im = Image.open(image_path)\n",
    "                #a = np.asarray(im)\n",
    "                #image= Image.fromarray(a)\n",
    "                image = cv2.imread(image_path,cv2.IMREAD_GRAYSCALE)\n",
    "                category_images.append(image)\n",
    "                y.append(curr_y)\n",
    "            try:\n",
    "                #print(category_images,np.stack(category_images).shape)\n",
    "                X.append(np.stack(category_images))\n",
    "            # edge case  - last one\n",
    "            except ValueError as e:\n",
    "                print(e)\n",
    "                print(\"error - category_images:\", category_images)\n",
    "            curr_y += 1\n",
    "            lang_dict[alphabet][1] = curr_y - 1\n",
    "    y = np.vstack(y)\n",
    "    X = np.stack(X)\n",
    "    #return data in this format X=(total_letters,20-->images ,105,105) y=(total_letters*20) as we will consider each letter as different class\n",
    "    return X,y,lang_dict"
   ]
  },
  {
   "cell_type": "code",
   "execution_count": null,
   "metadata": {
    "colab": {
     "base_uri": "https://localhost:8080/"
    },
    "executionInfo": {
     "elapsed": 2180,
     "status": "ok",
     "timestamp": 1635660592554,
     "user": {
      "displayName": "Nitin Sharma",
      "photoUrl": "https://lh3.googleusercontent.com/a/default-user=s64",
      "userId": "04463361370995784787"
     },
     "user_tz": -330
    },
    "id": "CDnEWdzZvOXv",
    "outputId": "56445446-ea68-4ad5-da80-ac2ed7d1da20"
   },
   "outputs": [
    {
     "name": "stdout",
     "output_type": "stream",
     "text": [
      "loading alphabet: Blackfoot_(Canadian_Aboriginal_Syllabics)\n",
      "loading alphabet: Mkhedruli_(Georgian)\n",
      "loading alphabet: Grantha\n",
      "loading alphabet: Alphabet_of_the_Magi\n",
      "loading alphabet: Ojibwe_(Canadian_Aboriginal_Syllabics)\n",
      "loading alphabet: Greek\n",
      "loading alphabet: Japanese_(katakana)\n",
      "loading alphabet: Bengali\n",
      "loading alphabet: Cyrillic\n",
      "loading alphabet: Malay_(Jawi_-_Arabic)\n",
      "loading alphabet: Tagalog\n",
      "loading alphabet: Latin\n",
      "loading alphabet: Sanskrit\n",
      "loading alphabet: Armenian\n",
      "loading alphabet: Korean\n",
      "loading alphabet: Hebrew\n",
      "loading alphabet: Inuktitut_(Canadian_Aboriginal_Syllabics)\n",
      "loading alphabet: Japanese_(hiragana)\n",
      "loading alphabet: Anglo-Saxon_Futhorc\n",
      "loading alphabet: N_Ko\n",
      "loading alphabet: Balinese\n",
      "loading alphabet: Tifinagh\n",
      "loading alphabet: Arcadian\n",
      "loading alphabet: Gujarati\n",
      "loading alphabet: Futurama\n",
      "loading alphabet: Burmese_(Myanmar)\n",
      "loading alphabet: Syriac_(Estrangelo)\n",
      "loading alphabet: Asomtavruli_(Georgian)\n",
      "loading alphabet: Early_Aramaic\n",
      "loading alphabet: Braille\n"
     ]
    }
   ],
   "source": [
    "X,y,c=load_images(train_folder)"
   ]
  },
  {
   "cell_type": "code",
   "execution_count": null,
   "metadata": {
    "colab": {
     "base_uri": "https://localhost:8080/"
    },
    "executionInfo": {
     "elapsed": 5,
     "status": "ok",
     "timestamp": 1635660602109,
     "user": {
      "displayName": "Nitin Sharma",
      "photoUrl": "https://lh3.googleusercontent.com/a/default-user=s64",
      "userId": "04463361370995784787"
     },
     "user_tz": -330
    },
    "id": "NH87y4ZUvSQH",
    "outputId": "6da4edd6-9fe7-4bb3-ed29-f75f1e1ce746"
   },
   "outputs": [
    {
     "data": {
      "text/plain": [
       "((964, 20, 105, 105), (19280, 1))"
      ]
     },
     "execution_count": 84,
     "metadata": {},
     "output_type": "execute_result"
    }
   ],
   "source": [
    "X.shape,y.shape"
   ]
  },
  {
   "cell_type": "code",
   "execution_count": null,
   "metadata": {
    "colab": {
     "base_uri": "https://localhost:8080/",
     "height": 285
    },
    "executionInfo": {
     "elapsed": 420,
     "status": "ok",
     "timestamp": 1635661014139,
     "user": {
      "displayName": "Nitin Sharma",
      "photoUrl": "https://lh3.googleusercontent.com/a/default-user=s64",
      "userId": "04463361370995784787"
     },
     "user_tz": -330
    },
    "id": "GDx55D3K_M-u",
    "outputId": "6c306356-f399-4f2c-80d2-7f7ddc5d0e58"
   },
   "outputs": [
    {
     "data": {
      "image/png": "[encoded data removed]",
      "text/plain": [
       "<Figure size 432x288 with 1 Axes>"
      ]
     },
     "metadata": {},
     "output_type": "display_data"
    },
    {
     "name": "stdout",
     "output_type": "stream",
     "text": [
      "[0]\n"
     ]
    }
   ],
   "source": [
    "plt.imshow(X[0][0]) #sample\n",
    "plt.show()\n",
    "\n",
    "print(y[0]) #we assign each letter one class so we have total 964 letters therefore we have classes from 0 to 963"
   ]
  },
  {
   "cell_type": "code",
   "execution_count": null,
   "metadata": {
    "colab": {
     "base_uri": "https://localhost:8080/"
    },
    "executionInfo": {
     "elapsed": 357,
     "status": "ok",
     "timestamp": 1635660605992,
     "user": {
      "displayName": "Nitin Sharma",
      "photoUrl": "https://lh3.googleusercontent.com/a/default-user=s64",
      "userId": "04463361370995784787"
     },
     "user_tz": -330
    },
    "id": "qY0t0X3JzSSX",
    "outputId": "4b1cba38-d129-445b-cb19-c2a2c1f4e5e3"
   },
   "outputs": [
    {
     "data": {
      "text/plain": [
       "{'Alphabet_of_the_Magi': [98, 117],\n",
       " 'Anglo-Saxon_Futhorc': [578, 606],\n",
       " 'Arcadian': [719, 744],\n",
       " 'Armenian': [407, 447],\n",
       " 'Asomtavruli_(Georgian)': [876, 915],\n",
       " 'Balinese': [640, 663],\n",
       " 'Bengali': [203, 248],\n",
       " 'Blackfoot_(Canadian_Aboriginal_Syllabics)': [0, 13],\n",
       " 'Braille': [938, 963],\n",
       " 'Burmese_(Myanmar)': [819, 852],\n",
       " 'Cyrillic': [249, 281],\n",
       " 'Early_Aramaic': [916, 937],\n",
       " 'Futurama': [793, 818],\n",
       " 'Grantha': [55, 97],\n",
       " 'Greek': [132, 155],\n",
       " 'Gujarati': [745, 792],\n",
       " 'Hebrew': [488, 509],\n",
       " 'Inuktitut_(Canadian_Aboriginal_Syllabics)': [510, 525],\n",
       " 'Japanese_(hiragana)': [526, 577],\n",
       " 'Japanese_(katakana)': [156, 202],\n",
       " 'Korean': [448, 487],\n",
       " 'Latin': [339, 364],\n",
       " 'Malay_(Jawi_-_Arabic)': [282, 321],\n",
       " 'Mkhedruli_(Georgian)': [14, 54],\n",
       " 'N_Ko': [607, 639],\n",
       " 'Ojibwe_(Canadian_Aboriginal_Syllabics)': [118, 131],\n",
       " 'Sanskrit': [365, 406],\n",
       " 'Syriac_(Estrangelo)': [853, 875],\n",
       " 'Tagalog': [322, 338],\n",
       " 'Tifinagh': [664, 718]}"
      ]
     },
     "execution_count": 85,
     "metadata": {},
     "output_type": "execute_result"
    }
   ],
   "source": [
    "c"
   ]
  },
  {
   "cell_type": "code",
   "execution_count": null,
   "metadata": {
    "id": "dbl3HKClzYnT"
   },
   "outputs": [],
   "source": [
    "with open(os.path.join(save_path,\"train.pickle\"), \"wb\") as f: #saving our data tensors into pickle file \n",
    "    pickle.dump((X,c),f)"
   ]
  },
  {
   "cell_type": "code",
   "execution_count": null,
   "metadata": {
    "colab": {
     "base_uri": "https://localhost:8080/"
    },
    "executionInfo": {
     "elapsed": 1695,
     "status": "ok",
     "timestamp": 1635660714219,
     "user": {
      "displayName": "Nitin Sharma",
      "photoUrl": "https://lh3.googleusercontent.com/a/default-user=s64",
      "userId": "04463361370995784787"
     },
     "user_tz": -330
    },
    "id": "Ud4b7ZeN-N-n",
    "outputId": "cec6c58f-f922-46e6-dc52-5d0084494c00"
   },
   "outputs": [
    {
     "name": "stdout",
     "output_type": "stream",
     "text": [
      "loading alphabet: Old_Church_Slavonic_(Cyrillic)\n",
      "loading alphabet: Avesta\n",
      "loading alphabet: Manipuri\n",
      "loading alphabet: Mongolian\n",
      "loading alphabet: Aurek-Besh\n",
      "loading alphabet: Atlantean\n",
      "loading alphabet: Malayalam\n",
      "loading alphabet: Tibetan\n",
      "loading alphabet: Gurmukhi\n",
      "loading alphabet: Kannada\n",
      "loading alphabet: ULOG\n",
      "loading alphabet: Atemayar_Qelisayer\n",
      "loading alphabet: Tengwar\n",
      "loading alphabet: Oriya\n",
      "loading alphabet: Syriac_(Serto)\n",
      "loading alphabet: Ge_ez\n",
      "loading alphabet: Keble\n",
      "loading alphabet: Sylheti\n",
      "loading alphabet: Angelic\n",
      "loading alphabet: Glagolitic\n"
     ]
    }
   ],
   "source": [
    "Xval,yval,cval=load_images(val_folder)"
   ]
  },
  {
   "cell_type": "code",
   "execution_count": null,
   "metadata": {
    "id": "eDRnVW7w-aUM"
   },
   "outputs": [],
   "source": [
    "with open(os.path.join(save_path,\"val.pickle\"), \"wb\") as f:\n",
    "    pickle.dump((Xval,cval),f)"
   ]
  },
  {
   "cell_type": "markdown",
   "metadata": {
    "id": "Vj_KaUnPT2bI"
   },
   "source": [
    "## **Creating Data For Training**"
   ]
  },
  {
   "cell_type": "code",
   "execution_count": 12,
   "metadata": {
    "id": "vRu8hfyZ-eny"
   },
   "outputs": [],
   "source": [
    "def get_batch(batch_size,Xtrain,Xval,train_classes,val_classes,s=\"train\"):\n",
    "    \"\"\"Create batch of n pairs, half same class, half different class\"\"\"\n",
    "    #print('train',Xtrain.shape,'val',Xval.shape)\n",
    "    #shape of Xtrain (964, 20, 105, 105) and shape of Xval (659, 20, 105, 105)\n",
    "    if s == 'train':\n",
    "        X = Xtrain\n",
    "        categories = train_classes\n",
    "    else:\n",
    "        X = Xval\n",
    "        categories = val_classes\n",
    "    n_classes, n_examples, w, h = X.shape\n",
    "    #print('n classes--',n_classes,'--n_examples--',n_examples)\n",
    "    # randomly sample several classes to use in the batch\n",
    "    categories = rng.choice(n_classes,size=(batch_size,),replace=False) #depends on the batch if batch_size is 2 then categories will be [x1,x2]\n",
    "    #if batch_size 4 then categories [x1,x2,x3,x4] where xi lies between 0-n_classes\n",
    "    #print('categories',categories)\n",
    "    # initialize 2 empty arrays for the input image batch , here we are making pair of images for training purpose \n",
    "    pairs=[np.zeros((batch_size, h, w,1)) for i in range(2)] #list something like this = [[batch_size,h,w,1],[batch_size,h,w,1]]\n",
    "\n",
    "    # initialize vector for the targets\n",
    "    targets=np.zeros((batch_size,))\n",
    "    \n",
    "    # make one half of it '1's, so 2nd half of batch has same class\n",
    "    targets[batch_size//2:] = 1\n",
    "    for i in range(batch_size):\n",
    "        category = categories[i]\n",
    "        idx_1 = rng.randint(0, n_examples)\n",
    "        pairs[0][i,:,:,:] = X[category, idx_1].reshape(w, h, 1)#X[class_id,out_of_20_images] \n",
    "        idx_2 = rng.randint(0, n_examples)\n",
    "        \n",
    "        # pick images of same class for 1st half, different for 2nd\n",
    "        if i >= batch_size // 2:\n",
    "            category_2 = category  #for same class sample \n",
    "        else: \n",
    "            # add a random number to the category modulo n classes to ensure 2nd image has a different category\n",
    "            category_2 = (category + rng.randint(1,n_classes)) % n_classes\n",
    "        \n",
    "        pairs[1][i,:,:,:] = X[category_2,idx_2].reshape(w, h,1)\n",
    "    \n",
    "    return pairs, targets"
   ]
  },
  {
   "cell_type": "code",
   "execution_count": 7,
   "metadata": {
    "id": "EhGkSdFoF05n"
   },
   "outputs": [],
   "source": [
    "# pairs=[np.zeros((4, 105, 105,1)) for i in range(1)]\n",
    "# categories = rng.choice(10,size=(4,),replace=False)"
   ]
  },
  {
   "cell_type": "code",
   "execution_count": null,
   "metadata": {
    "id": "o3wQLMvQHDKn"
   },
   "outputs": [],
   "source": [
    "#categories"
   ]
  },
  {
   "cell_type": "code",
   "execution_count": 27,
   "metadata": {
    "colab": {
     "base_uri": "https://localhost:8080/"
    },
    "executionInfo": {
     "elapsed": 3874,
     "status": "ok",
     "timestamp": 1635826575651,
     "user": {
      "displayName": "Nitin Sharma",
      "photoUrl": "https://lh3.googleusercontent.com/a/default-user=s64",
      "userId": "04463361370995784787"
     },
     "user_tz": -330
    },
    "id": "aoYbQrfzHEK_",
    "outputId": "323b35f9-8d3d-402b-8073-912eca16bb3d"
   },
   "outputs": [
    {
     "name": "stdout",
     "output_type": "stream",
     "text": [
      "Training alphabets: \n",
      "\n",
      "['Blackfoot_(Canadian_Aboriginal_Syllabics)', 'Mkhedruli_(Georgian)', 'Grantha', 'Alphabet_of_the_Magi', 'Ojibwe_(Canadian_Aboriginal_Syllabics)', 'Greek', 'Japanese_(katakana)', 'Bengali', 'Cyrillic', 'Malay_(Jawi_-_Arabic)', 'Tagalog', 'Latin', 'Sanskrit', 'Armenian', 'Korean', 'Hebrew', 'Inuktitut_(Canadian_Aboriginal_Syllabics)', 'Japanese_(hiragana)', 'Anglo-Saxon_Futhorc', 'N_Ko', 'Balinese', 'Tifinagh', 'Arcadian', 'Gujarati', 'Futurama', 'Burmese_(Myanmar)', 'Syriac_(Estrangelo)', 'Asomtavruli_(Georgian)', 'Early_Aramaic', 'Braille']\n"
     ]
    }
   ],
   "source": [
    "with open(os.path.join(r\"E:\\DATASETS\\Few_shots_learning_dataset\", \"train.pickle\"), \"rb\") as f:\n",
    "    (Xtrain, train_classes) = pickle.load(f)\n",
    "    \n",
    "print(\"Training alphabets: \\n\")\n",
    "print(list(train_classes.keys()))\n"
   ]
  },
  {
   "cell_type": "code",
   "execution_count": 28,
   "metadata": {
    "colab": {
     "base_uri": "https://localhost:8080/"
    },
    "executionInfo": {
     "elapsed": 3710,
     "status": "ok",
     "timestamp": 1635826579985,
     "user": {
      "displayName": "Nitin Sharma",
      "photoUrl": "https://lh3.googleusercontent.com/a/default-user=s64",
      "userId": "04463361370995784787"
     },
     "user_tz": -330
    },
    "id": "_x49S0k3IdgT",
    "outputId": "cd926d5d-19dc-4d53-a0cb-beb5e613165d"
   },
   "outputs": [
    {
     "name": "stdout",
     "output_type": "stream",
     "text": [
      "Validation alphabets:\n",
      "\n",
      "['Old_Church_Slavonic_(Cyrillic)', 'Avesta', 'Manipuri', 'Mongolian', 'Aurek-Besh', 'Atlantean', 'Malayalam', 'Tibetan', 'Gurmukhi', 'Kannada', 'ULOG', 'Atemayar_Qelisayer', 'Tengwar', 'Oriya', 'Syriac_(Serto)', 'Ge_ez', 'Keble', 'Sylheti', 'Angelic', 'Glagolitic']\n"
     ]
    }
   ],
   "source": [
    "with open(os.path.join(r\"E:\\DATASETS\\Few_shots_learning_dataset\", \"val.pickle\"), \"rb\") as f:\n",
    "    (Xval, val_classes) = pickle.load(f)\n",
    "\n",
    "print(\"Validation alphabets:\", end=\"\\n\\n\")\n",
    "print(list(val_classes.keys()))"
   ]
  },
  {
   "cell_type": "markdown",
   "metadata": {
    "id": "QZDiNE2GUDYl"
   },
   "source": [
    "## **Creating generator here so that we can load our data for training in more efficient way**"
   ]
  },
  {
   "cell_type": "code",
   "execution_count": 13,
   "metadata": {
    "id": "JLbyFp1DhU1h"
   },
   "outputs": [],
   "source": [
    "#creating generator here so that we can load our data for training in more efficient way \n",
    "def generate(batch_size,Xtrain,Xval,train_classes,val_classes, s=\"train\"):\n",
    "    \"\"\"a generator for batches, so model.fit_generator can be used. \"\"\"\n",
    "    while True:\n",
    "        pairs, targets = get_batch(batch_size,Xtrain,Xval,train_classes,val_classes)\n",
    "        yield (pairs, targets)"
   ]
  },
  {
   "cell_type": "code",
   "execution_count": null,
   "metadata": {
    "id": "N3e8QL3BhU2-"
   },
   "outputs": [],
   "source": [
    "dataset=generate(16,Xtrain,Xval,train_classes,val_classes)"
   ]
  },
  {
   "cell_type": "code",
   "execution_count": null,
   "metadata": {
    "colab": {
     "base_uri": "https://localhost:8080/"
    },
    "executionInfo": {
     "elapsed": 9,
     "status": "ok",
     "timestamp": 1635826579986,
     "user": {
      "displayName": "Nitin Sharma",
      "photoUrl": "https://lh3.googleusercontent.com/a/default-user=s64",
      "userId": "04463361370995784787"
     },
     "user_tz": -330
    },
    "id": "tSYGe0NPhU7g",
    "outputId": "6ed75725-bf26-4e75-bb4b-26e6485cdd2c"
   },
   "outputs": [
    {
     "name": "stdout",
     "output_type": "stream",
     "text": [
      "(2, 16, 105, 105, 1) (16,)\n"
     ]
    }
   ],
   "source": [
    "pairs,targets=next(dataset)\n",
    "print(np.array(pairs).shape,np.array(targets).shape)"
   ]
  },
  {
   "cell_type": "code",
   "execution_count": 11,
   "metadata": {
    "id": "zSyI1OOikKuV"
   },
   "outputs": [],
   "source": [
    "def initialize_weights(shape, dtype=None):\n",
    "    \"\"\"\n",
    "      The paper, http://www.cs.utoronto.ca/~gkoch/files/msc-thesis.pdf\n",
    "      suggests to initialize CNN layer weights with mean as 0.0 and standard deviation of 0.01\n",
    "    \"\"\"\n",
    "    return np.random.normal(loc = 0.0, scale = 1e-2, size = shape)\n",
    "\n",
    "def initialize_bias(shape, dtype=None):\n",
    "    \"\"\"\n",
    "        The paper, http://www.cs.utoronto.ca/~gkoch/files/msc-thesis.pdf\n",
    "        suggests to initialize CNN layer weights with mean as 0.0 and standard deviation of 0.01\n",
    "    \"\"\"\n",
    "    return np.random.normal(loc = 0.5, scale = 1e-2, size = shape)\n"
   ]
  },
  {
   "cell_type": "markdown",
   "metadata": {
    "id": "56azpzxmULdw"
   },
   "source": [
    "## **Creating Model**"
   ]
  },
  {
   "cell_type": "code",
   "execution_count": 19,
   "metadata": {
    "id": "5p4sHa65hU85"
   },
   "outputs": [],
   "source": [
    "#creating model (siamese network)\n",
    "def siamese_model(input_shape):\n",
    "    \"\"\"\n",
    "        Model architecture based on the one provided in: http://www.cs.utoronto.ca/~gkoch/files/msc-thesis.pdf\n",
    "    \"\"\"\n",
    "    \n",
    "    # Define the tensors for the two input images\n",
    "    left_input = Input(input_shape)\n",
    "    right_input = Input(input_shape)\n",
    "    \n",
    "    # Convolutional Neural Network\n",
    "    model = Sequential()\n",
    "    model.add(Conv2D(64, (10,10), activation='relu', input_shape=input_shape,\n",
    "                   kernel_initializer=initialize_weights, kernel_regularizer=l2(2e-4)))\n",
    "    model.add(MaxPooling2D())\n",
    "    model.add(Conv2D(128, (7,7), activation='relu',\n",
    "                     kernel_initializer=initialize_weights,\n",
    "                     bias_initializer=initialize_bias, kernel_regularizer=l2(2e-4)))\n",
    "    model.add(MaxPooling2D())\n",
    "    model.add(Conv2D(128, (4,4), activation='relu', kernel_initializer=initialize_weights,\n",
    "                     bias_initializer=initialize_bias, kernel_regularizer=l2(2e-4)))\n",
    "    model.add(MaxPooling2D())\n",
    "    model.add(Conv2D(256, (4,4), activation='relu', kernel_initializer=initialize_weights,\n",
    "                     bias_initializer=initialize_bias, kernel_regularizer=l2(2e-4)))\n",
    "    model.add(Flatten())\n",
    "    model.add(Dense(4096, activation='sigmoid',\n",
    "                   kernel_regularizer=l2(1e-3),\n",
    "                   kernel_initializer=initialize_weights,bias_initializer=initialize_bias))\n",
    "    \n",
    "    # Generate the encodings (feature vectors) for the two images\n",
    "    encoded_l = model(left_input)\n",
    "    encoded_r = model(right_input)\n",
    "    \n",
    "    # Add a customized layer to compute the absolute difference between the encodings\n",
    "    L1_layer = Lambda(lambda tensors:K.abs(tensors[0] - tensors[1]))\n",
    "    L1_distance = L1_layer([encoded_l, encoded_r])#here we are sending input like [output_from_encode_l , output_from_encode_r]\n",
    "    \n",
    "    # Add a dense layer with a sigmoid unit to generate the similarity score\n",
    "    prediction = Dense(1,activation='sigmoid',bias_initializer=initialize_bias)(L1_distance)\n",
    "    \n",
    "    # Connect the inputs with the outputs\n",
    "    siamese_net = Model(inputs=[left_input,right_input],outputs=prediction)\n",
    "    \n",
    "    # return the model\n",
    "    return siamese_net"
   ]
  },
  {
   "cell_type": "code",
   "execution_count": 21,
   "metadata": {
    "colab": {
     "base_uri": "https://localhost:8080/"
    },
    "executionInfo": {
     "elapsed": 2167,
     "status": "ok",
     "timestamp": 1635826582148,
     "user": {
      "displayName": "Nitin Sharma",
      "photoUrl": "https://lh3.googleusercontent.com/a/default-user=s64",
      "userId": "04463361370995784787"
     },
     "user_tz": -330
    },
    "id": "1rgfzdYjhVA0",
    "outputId": "08a2c330-83ce-4404-872e-544cabd1fd0c",
    "scrolled": true
   },
   "outputs": [
    {
     "name": "stdout",
     "output_type": "stream",
     "text": [
      "Model: \"functional_3\"\n",
      "__________________________________________________________________________________________________\n",
      "Layer (type)                    Output Shape         Param #     Connected to                     \n",
      "==================================================================================================\n",
      "input_7 (InputLayer)            [(None, 105, 105, 1) 0                                            \n",
      "__________________________________________________________________________________________________\n",
      "input_8 (InputLayer)            [(None, 105, 105, 1) 0                                            \n",
      "__________________________________________________________________________________________________\n",
      "sequential_3 (Sequential)       (None, 4096)         38947648    input_7[0][0]                    \n",
      "                                                                 input_8[0][0]                    \n",
      "__________________________________________________________________________________________________\n",
      "lambda_1 (Lambda)               (None, 4096)         0           sequential_3[0][0]               \n",
      "                                                                 sequential_3[1][0]               \n",
      "__________________________________________________________________________________________________\n",
      "dense_3 (Dense)                 (None, 1)            4097        lambda_1[0][0]                   \n",
      "==================================================================================================\n",
      "Total params: 38,951,745\n",
      "Trainable params: 38,951,745\n",
      "Non-trainable params: 0\n",
      "__________________________________________________________________________________________________\n"
     ]
    }
   ],
   "source": [
    "model = siamese_model((105, 105, 1))\n",
    "model.summary()"
   ]
  },
  {
   "cell_type": "code",
   "execution_count": 22,
   "metadata": {
    "colab": {
     "base_uri": "https://localhost:8080/"
    },
    "executionInfo": {
     "elapsed": 10,
     "status": "ok",
     "timestamp": 1635826583929,
     "user": {
      "displayName": "Nitin Sharma",
      "photoUrl": "https://lh3.googleusercontent.com/a/default-user=s64",
      "userId": "04463361370995784787"
     },
     "user_tz": -330
    },
    "id": "N81Qs9KlhVCn",
    "outputId": "dea53832-0aca-4e02-bf97-219577720648"
   },
   "outputs": [],
   "source": [
    "optimizer = Adam(lr = 0.00006)\n",
    "model.compile(loss=\"binary_crossentropy\",optimizer=optimizer)"
   ]
  },
  {
   "cell_type": "code",
   "execution_count": 23,
   "metadata": {
    "id": "hrfvWJDPrTu6"
   },
   "outputs": [],
   "source": [
    "#retraining \n",
    "model.load_weights(os.path.join(r\"E:\\DATASETS\\Few_shots_learning_dataset\",\"weights.19800.h5\"))"
   ]
  },
  {
   "cell_type": "markdown",
   "metadata": {
    "id": "le-5faWUUV7c"
   },
   "source": [
    "## **Data Creation for One shot Training**"
   ]
  },
  {
   "cell_type": "code",
   "execution_count": 53,
   "metadata": {
    "executionInfo": {
     "elapsed": 851,
     "status": "ok",
     "timestamp": 1636786006005,
     "user": {
      "displayName": "Nitin Sharma",
      "photoUrl": "https://lh3.googleusercontent.com/a/default-user=s64",
      "userId": "04463361370995784787"
     },
     "user_tz": -330
    },
    "id": "5paz6cndhVGk"
   },
   "outputs": [],
   "source": [
    "def make_oneshot_task(N,Xtrain,Xval,train_classes,val_classes,s=\"val\", language=None):\n",
    "    \"\"\"Create pairs of test image, support set for testing N way one-shot learning. \"\"\"\n",
    "    if s == 'train':\n",
    "        X = Xtrain\n",
    "        categories = train_classes\n",
    "    else:\n",
    "        X = Xval\n",
    "        categories = val_classes\n",
    "    n_classes, n_examples, w, h = X.shape\n",
    "    \n",
    "    indices = rng.randint(0, n_examples,size=(N,))\n",
    "    if language is not None: # if language is specified, select characters for that language\n",
    "        low, high = categories[language]#as we have created dict in starting where we added images count in this manner Gujarati': [745, 792],\n",
    "        if N > high - low:#number of samples we can take should be less than total images of that class\n",
    "            raise ValueError(\"This language ({}) has less than {} letters\".format(language, N))\n",
    "        categories = rng.choice(range(low,high),size=(N,),replace=False)\n",
    "\n",
    "    else: # if no language specified just pick a bunch of random letters\n",
    "        categories = rng.choice(range(n_classes),size=(N,),replace=False)  \n",
    "    #print('categories is',categories)          \n",
    "    true_category = categories[0]#taking first image as true\n",
    "    ex1, ex2 = rng.choice(n_examples,replace=False,size=(2,))\n",
    "    #print(ex1,ex2,'exx')\n",
    "    test_image = np.asarray([X[true_category,ex1,:,:]]*N).reshape(N, w, h,1) #we have to make pair of original with the images in the support set\n",
    "    #thats why we multiple this image by N to\n",
    "    #print(np.array(test_image).shape,'test image size ')\n",
    "    support_set = X[categories,indices,:,:]\n",
    "    #print(support_set.shape)\n",
    "    support_set[0,:,:] = X[true_category,ex2]#setting first image in the support set same as of original class  image \n",
    "    #print(support_set.shape)\n",
    "    support_set = support_set.reshape(N, w, h,1)\n",
    "    targets = np.zeros((N,))\n",
    "    targets[0] = 1#setting first image target=1\n",
    "    targets, test_image, support_set = shuffle(targets, test_image, support_set)\n",
    "    pairs = [test_image,support_set]\n",
    "\n",
    "    return pairs, targets"
   ]
  },
  {
   "cell_type": "markdown",
   "metadata": {
    "id": "CdiHBk53Ui2u"
   },
   "source": [
    "## **Testing our model using Few shot prediction**"
   ]
  },
  {
   "cell_type": "code",
   "execution_count": 140,
   "metadata": {
    "id": "2-uiKZfHz9T8"
   },
   "outputs": [],
   "source": [
    "def test_oneshot(model,Xtrain,Xval,train_classes,val_classes,N, k, s = \"val\", verbose = 0):\n",
    "    \"\"\"Test average N way oneshot learning accuracy of a siamese neural net over k one-shot tasks\"\"\"\n",
    "    n_correct = 0\n",
    "    if verbose:\n",
    "        print(\"Evaluating model on {} random {} way one-shot learning tasks ... \\n\".format(k,N))\n",
    "    for i in range(k):\n",
    "        inputs, targets = make_oneshot_task(N,Xtrain,Xval,train_classes,val_classes,s)\n",
    "        probs = model.predict(inputs)\n",
    "        if np.argmax(probs) == np.argmax(targets):\n",
    "            n_correct+=1\n",
    "    percent_correct = (100.0 * n_correct / k)\n",
    "    if verbose:\n",
    "        print(\"Got an average of {}% {} way one-shot learning accuracy \\n\".format(percent_correct,N))\n",
    "    return percent_correct , probs"
   ]
  },
  {
   "cell_type": "code",
   "execution_count": null,
   "metadata": {
    "id": "UyOMR-jFz9VY"
   },
   "outputs": [],
   "source": [
    "# Hyper parameters\n",
    "evaluate_every = 200 # interval for evaluating on one-shot tasks\n",
    "batch_size = 32\n",
    "n_iter = 20000 # No. of training iterations\n",
    "N_way = 20 # how many classes for testing one-shot tasks\n",
    "n_val = 250 # how many one-shot tasks to validate on\n",
    "best = -1"
   ]
  },
  {
   "cell_type": "markdown",
   "metadata": {
    "id": "3g9r_lJyUry4"
   },
   "source": [
    "## **Training**"
   ]
  },
  {
   "cell_type": "code",
   "execution_count": null,
   "metadata": {
    "colab": {
     "base_uri": "https://localhost:8080/"
    },
    "executionInfo": {
     "elapsed": 3916680,
     "status": "ok",
     "timestamp": 1635831798327,
     "user": {
      "displayName": "Nitin Sharma",
      "photoUrl": "https://lh3.googleusercontent.com/a/default-user=s64",
      "userId": "04463361370995784787"
     },
     "user_tz": -330
    },
    "id": "M3xU-c2Oz9Zz",
    "outputId": "e55b4daa-5458-4d97-c1c9-46af3ea814fb"
   },
   "outputs": [
    {
     "name": "stdout",
     "output_type": "stream",
     "text": [
      "Starting training process!\n",
      "-------------------------------------\n",
      "\n",
      " ------------- \n",
      "\n",
      "Time for 2400 iterations: 1.10499453941981 mins\n",
      "Train Loss: 0.3082767724990845\n",
      "Evaluating model on 250 random 20 way one-shot learning tasks ... \n",
      "\n",
      "Got an average of 70.4% 20 way one-shot learning accuracy \n",
      "\n",
      "Current best: 70.4, previous best: -1\n",
      "\n",
      " ------------- \n",
      "\n",
      "Time for 2600 iterations: 2.1116382916768393 mins\n",
      "Train Loss: 0.344495952129364\n",
      "Evaluating model on 250 random 20 way one-shot learning tasks ... \n",
      "\n",
      "Got an average of 72.4% 20 way one-shot learning accuracy \n",
      "\n",
      "Current best: 72.4, previous best: 70.4\n",
      "\n",
      " ------------- \n",
      "\n",
      "Time for 2800 iterations: 3.086186742782593 mins\n",
      "Train Loss: 0.3863230049610138\n",
      "Evaluating model on 250 random 20 way one-shot learning tasks ... \n",
      "\n",
      "Got an average of 69.6% 20 way one-shot learning accuracy \n",
      "\n",
      "\n",
      " ------------- \n",
      "\n",
      "Time for 3000 iterations: 4.07079640229543 mins\n",
      "Train Loss: 0.27617213129997253\n",
      "Evaluating model on 250 random 20 way one-shot learning tasks ... \n",
      "\n",
      "Got an average of 75.6% 20 way one-shot learning accuracy \n",
      "\n",
      "Current best: 75.6, previous best: 72.4\n",
      "\n",
      " ------------- \n",
      "\n",
      "Time for 3200 iterations: 5.053274548053741 mins\n",
      "Train Loss: 0.2241656482219696\n",
      "Evaluating model on 250 random 20 way one-shot learning tasks ... \n",
      "\n",
      "Got an average of 76.0% 20 way one-shot learning accuracy \n",
      "\n",
      "Current best: 76.0, previous best: 75.6\n",
      "\n",
      " ------------- \n",
      "\n",
      "Time for 3400 iterations: 6.037558456261952 mins\n",
      "Train Loss: 0.2931738495826721\n",
      "Evaluating model on 250 random 20 way one-shot learning tasks ... \n",
      "\n",
      "Got an average of 69.6% 20 way one-shot learning accuracy \n",
      "\n",
      "\n",
      " ------------- \n",
      "\n",
      "Time for 3600 iterations: 7.019844508171081 mins\n",
      "Train Loss: 0.24971462786197662\n",
      "Evaluating model on 250 random 20 way one-shot learning tasks ... \n",
      "\n",
      "Got an average of 80.0% 20 way one-shot learning accuracy \n",
      "\n",
      "Current best: 80.0, previous best: 76.0\n",
      "\n",
      " ------------- \n",
      "\n",
      "Time for 3800 iterations: 8.003939727942148 mins\n",
      "Train Loss: 0.2764762043952942\n",
      "Evaluating model on 250 random 20 way one-shot learning tasks ... \n",
      "\n",
      "Got an average of 74.0% 20 way one-shot learning accuracy \n",
      "\n",
      "\n",
      " ------------- \n",
      "\n",
      "Time for 4000 iterations: 8.991216385364533 mins\n",
      "Train Loss: 0.23157557845115662\n",
      "Evaluating model on 250 random 20 way one-shot learning tasks ... \n",
      "\n",
      "Got an average of 74.0% 20 way one-shot learning accuracy \n",
      "\n",
      "\n",
      " ------------- \n",
      "\n",
      "Time for 4200 iterations: 9.996949823697408 mins\n",
      "Train Loss: 0.30523380637168884\n",
      "Evaluating model on 250 random 20 way one-shot learning tasks ... \n",
      "\n",
      "Got an average of 76.0% 20 way one-shot learning accuracy \n",
      "\n",
      "\n",
      " ------------- \n",
      "\n",
      "Time for 4400 iterations: 10.988655920823415 mins\n",
      "Train Loss: 0.22164243459701538\n",
      "Evaluating model on 250 random 20 way one-shot learning tasks ... \n",
      "\n",
      "Got an average of 72.4% 20 way one-shot learning accuracy \n",
      "\n",
      "\n",
      " ------------- \n",
      "\n",
      "Time for 4600 iterations: 11.976201554139456 mins\n",
      "Train Loss: 0.2197093665599823\n",
      "Evaluating model on 250 random 20 way one-shot learning tasks ... \n",
      "\n",
      "Got an average of 75.6% 20 way one-shot learning accuracy \n",
      "\n",
      "\n",
      " ------------- \n",
      "\n",
      "Time for 4800 iterations: 12.961413621902466 mins\n",
      "Train Loss: 0.25904983282089233\n",
      "Evaluating model on 250 random 20 way one-shot learning tasks ... \n",
      "\n",
      "Got an average of 70.8% 20 way one-shot learning accuracy \n",
      "\n",
      "\n",
      " ------------- \n",
      "\n",
      "Time for 5000 iterations: 13.944900580247243 mins\n",
      "Train Loss: 0.2557610869407654\n",
      "Evaluating model on 250 random 20 way one-shot learning tasks ... \n",
      "\n",
      "Got an average of 72.4% 20 way one-shot learning accuracy \n",
      "\n",
      "\n",
      " ------------- \n",
      "\n",
      "Time for 5200 iterations: 14.927813410758972 mins\n",
      "Train Loss: 0.2614511549472809\n",
      "Evaluating model on 250 random 20 way one-shot learning tasks ... \n",
      "\n",
      "Got an average of 75.6% 20 way one-shot learning accuracy \n",
      "\n",
      "\n",
      " ------------- \n",
      "\n",
      "Time for 5400 iterations: 15.907084584236145 mins\n",
      "Train Loss: 0.21909329295158386\n",
      "Evaluating model on 250 random 20 way one-shot learning tasks ... \n",
      "\n",
      "Got an average of 73.2% 20 way one-shot learning accuracy \n",
      "\n",
      "\n",
      " ------------- \n",
      "\n",
      "Time for 5600 iterations: 16.8710994442304 mins\n",
      "Train Loss: 0.2517624497413635\n",
      "Evaluating model on 250 random 20 way one-shot learning tasks ... \n",
      "\n",
      "Got an average of 81.2% 20 way one-shot learning accuracy \n",
      "\n",
      "Current best: 81.2, previous best: 80.0\n",
      "\n",
      " ------------- \n",
      "\n",
      "Time for 5800 iterations: 17.849211462338765 mins\n",
      "Train Loss: 0.27137792110443115\n",
      "Evaluating model on 250 random 20 way one-shot learning tasks ... \n",
      "\n",
      "Got an average of 76.0% 20 way one-shot learning accuracy \n",
      "\n",
      "\n",
      " ------------- \n",
      "\n",
      "Time for 6000 iterations: 18.821249024073282 mins\n",
      "Train Loss: 0.19565987586975098\n",
      "Evaluating model on 250 random 20 way one-shot learning tasks ... \n",
      "\n",
      "Got an average of 76.0% 20 way one-shot learning accuracy \n",
      "\n",
      "\n",
      " ------------- \n",
      "\n",
      "Time for 6200 iterations: 19.800617623329163 mins\n",
      "Train Loss: 0.2870171368122101\n",
      "Evaluating model on 250 random 20 way one-shot learning tasks ... \n",
      "\n",
      "Got an average of 69.6% 20 way one-shot learning accuracy \n",
      "\n",
      "\n",
      " ------------- \n",
      "\n",
      "Time for 6400 iterations: 20.782174344857534 mins\n",
      "Train Loss: 0.29893478751182556\n",
      "Evaluating model on 250 random 20 way one-shot learning tasks ... \n",
      "\n",
      "Got an average of 76.8% 20 way one-shot learning accuracy \n",
      "\n",
      "\n",
      " ------------- \n",
      "\n",
      "Time for 6600 iterations: 21.773029442628225 mins\n",
      "Train Loss: 0.2938928008079529\n",
      "Evaluating model on 250 random 20 way one-shot learning tasks ... \n",
      "\n",
      "Got an average of 78.4% 20 way one-shot learning accuracy \n",
      "\n",
      "\n",
      " ------------- \n",
      "\n",
      "Time for 6800 iterations: 22.75332440137863 mins\n",
      "Train Loss: 0.2529113292694092\n",
      "Evaluating model on 250 random 20 way one-shot learning tasks ... \n",
      "\n",
      "Got an average of 78.0% 20 way one-shot learning accuracy \n",
      "\n",
      "\n",
      " ------------- \n",
      "\n",
      "Time for 7000 iterations: 23.728415278593697 mins\n",
      "Train Loss: 0.2740919589996338\n",
      "Evaluating model on 250 random 20 way one-shot learning tasks ... \n",
      "\n",
      "Got an average of 75.2% 20 way one-shot learning accuracy \n",
      "\n",
      "\n",
      " ------------- \n",
      "\n",
      "Time for 7200 iterations: 24.701978679498037 mins\n",
      "Train Loss: 0.22014090418815613\n",
      "Evaluating model on 250 random 20 way one-shot learning tasks ... \n",
      "\n",
      "Got an average of 78.8% 20 way one-shot learning accuracy \n",
      "\n",
      "\n",
      " ------------- \n",
      "\n",
      "Time for 7400 iterations: 25.677136758963268 mins\n",
      "Train Loss: 0.21139627695083618\n",
      "Evaluating model on 250 random 20 way one-shot learning tasks ... \n",
      "\n",
      "Got an average of 79.6% 20 way one-shot learning accuracy \n",
      "\n",
      "\n",
      " ------------- \n",
      "\n",
      "Time for 7600 iterations: 26.654570575555166 mins\n",
      "Train Loss: 0.2641756236553192\n",
      "Evaluating model on 250 random 20 way one-shot learning tasks ... \n",
      "\n",
      "Got an average of 79.6% 20 way one-shot learning accuracy \n",
      "\n",
      "\n",
      " ------------- \n",
      "\n",
      "Time for 7800 iterations: 27.62600694100062 mins\n",
      "Train Loss: 0.2001577913761139\n",
      "Evaluating model on 250 random 20 way one-shot learning tasks ... \n",
      "\n",
      "Got an average of 77.6% 20 way one-shot learning accuracy \n",
      "\n",
      "\n",
      " ------------- \n",
      "\n",
      "Time for 8000 iterations: 28.593948543071747 mins\n",
      "Train Loss: 0.2675187587738037\n",
      "Evaluating model on 250 random 20 way one-shot learning tasks ... \n",
      "\n",
      "Got an average of 76.0% 20 way one-shot learning accuracy \n",
      "\n",
      "\n",
      " ------------- \n",
      "\n",
      "Time for 8200 iterations: 29.562852358818056 mins\n",
      "Train Loss: 0.39651885628700256\n",
      "Evaluating model on 250 random 20 way one-shot learning tasks ... \n",
      "\n",
      "Got an average of 69.6% 20 way one-shot learning accuracy \n",
      "\n",
      "\n",
      " ------------- \n",
      "\n",
      "Time for 8400 iterations: 30.52385864655177 mins\n",
      "Train Loss: 0.262441486120224\n",
      "Evaluating model on 250 random 20 way one-shot learning tasks ... \n",
      "\n",
      "Got an average of 79.2% 20 way one-shot learning accuracy \n",
      "\n",
      "\n",
      " ------------- \n",
      "\n",
      "Time for 8600 iterations: 31.489190836747486 mins\n",
      "Train Loss: 0.19874420762062073\n",
      "Evaluating model on 250 random 20 way one-shot learning tasks ... \n",
      "\n",
      "Got an average of 75.2% 20 way one-shot learning accuracy \n",
      "\n",
      "\n",
      " ------------- \n",
      "\n",
      "Time for 8800 iterations: 32.44062016805013 mins\n",
      "Train Loss: 0.20851951837539673\n",
      "Evaluating model on 250 random 20 way one-shot learning tasks ... \n",
      "\n",
      "Got an average of 75.2% 20 way one-shot learning accuracy \n",
      "\n",
      "\n",
      " ------------- \n",
      "\n",
      "Time for 9000 iterations: 33.40915429989497 mins\n",
      "Train Loss: 0.1746424287557602\n",
      "Evaluating model on 250 random 20 way one-shot learning tasks ... \n",
      "\n",
      "Got an average of 72.4% 20 way one-shot learning accuracy \n",
      "\n",
      "\n",
      " ------------- \n",
      "\n",
      "Time for 9200 iterations: 34.36885039409002 mins\n",
      "Train Loss: 0.1546001136302948\n",
      "Evaluating model on 250 random 20 way one-shot learning tasks ... \n",
      "\n",
      "Got an average of 74.8% 20 way one-shot learning accuracy \n",
      "\n",
      "\n",
      " ------------- \n",
      "\n",
      "Time for 9400 iterations: 35.33185217777888 mins\n",
      "Train Loss: 0.21512147784233093\n",
      "Evaluating model on 250 random 20 way one-shot learning tasks ... \n",
      "\n",
      "Got an average of 73.6% 20 way one-shot learning accuracy \n",
      "\n",
      "\n",
      " ------------- \n",
      "\n",
      "Time for 9600 iterations: 36.297472123305006 mins\n",
      "Train Loss: 0.25988078117370605\n",
      "Evaluating model on 250 random 20 way one-shot learning tasks ... \n",
      "\n",
      "Got an average of 79.6% 20 way one-shot learning accuracy \n",
      "\n",
      "\n",
      " ------------- \n",
      "\n",
      "Time for 9800 iterations: 37.270152537028 mins\n",
      "Train Loss: 0.23296113312244415\n",
      "Evaluating model on 250 random 20 way one-shot learning tasks ... \n",
      "\n",
      "Got an average of 80.8% 20 way one-shot learning accuracy \n",
      "\n",
      "\n",
      " ------------- \n",
      "\n",
      "Time for 10000 iterations: 38.23610748847326 mins\n",
      "Train Loss: 0.1736062914133072\n",
      "Evaluating model on 250 random 20 way one-shot learning tasks ... \n",
      "\n",
      "Got an average of 85.6% 20 way one-shot learning accuracy \n",
      "\n",
      "Current best: 85.6, previous best: 81.2\n",
      "\n",
      " ------------- \n",
      "\n",
      "Time for 10200 iterations: 39.21188675562541 mins\n",
      "Train Loss: 0.21398630738258362\n",
      "Evaluating model on 250 random 20 way one-shot learning tasks ... \n",
      "\n",
      "Got an average of 80.8% 20 way one-shot learning accuracy \n",
      "\n",
      "\n",
      " ------------- \n",
      "\n",
      "Time for 10400 iterations: 40.172807236512504 mins\n",
      "Train Loss: 0.2618241608142853\n",
      "Evaluating model on 250 random 20 way one-shot learning tasks ... \n",
      "\n",
      "Got an average of 85.2% 20 way one-shot learning accuracy \n",
      "\n",
      "\n",
      " ------------- \n",
      "\n",
      "Time for 10600 iterations: 41.13975735505422 mins\n",
      "Train Loss: 0.21033483743667603\n",
      "Evaluating model on 250 random 20 way one-shot learning tasks ... \n",
      "\n",
      "Got an average of 80.8% 20 way one-shot learning accuracy \n",
      "\n",
      "\n",
      " ------------- \n",
      "\n",
      "Time for 10800 iterations: 42.09741957187653 mins\n",
      "Train Loss: 0.3208048343658447\n",
      "Evaluating model on 250 random 20 way one-shot learning tasks ... \n",
      "\n",
      "Got an average of 77.2% 20 way one-shot learning accuracy \n",
      "\n",
      "\n",
      " ------------- \n",
      "\n",
      "Time for 11000 iterations: 43.07195750077565 mins\n",
      "Train Loss: 0.20195922255516052\n",
      "Evaluating model on 250 random 20 way one-shot learning tasks ... \n",
      "\n",
      "Got an average of 75.6% 20 way one-shot learning accuracy \n",
      "\n",
      "\n",
      " ------------- \n",
      "\n",
      "Time for 11200 iterations: 44.03165844281514 mins\n",
      "Train Loss: 0.15611179172992706\n",
      "Evaluating model on 250 random 20 way one-shot learning tasks ... \n",
      "\n",
      "Got an average of 77.2% 20 way one-shot learning accuracy \n",
      "\n",
      "\n",
      " ------------- \n",
      "\n",
      "Time for 11400 iterations: 45.00201131502787 mins\n",
      "Train Loss: 0.23070645332336426\n",
      "Evaluating model on 250 random 20 way one-shot learning tasks ... \n",
      "\n",
      "Got an average of 79.2% 20 way one-shot learning accuracy \n",
      "\n",
      "\n",
      " ------------- \n",
      "\n",
      "Time for 11600 iterations: 45.96344633499781 mins\n",
      "Train Loss: 0.1582462340593338\n",
      "Evaluating model on 250 random 20 way one-shot learning tasks ... \n",
      "\n",
      "Got an average of 78.0% 20 way one-shot learning accuracy \n",
      "\n",
      "\n",
      " ------------- \n",
      "\n",
      "Time for 11800 iterations: 46.931757120291394 mins\n",
      "Train Loss: 0.1672077775001526\n",
      "Evaluating model on 250 random 20 way one-shot learning tasks ... \n",
      "\n",
      "Got an average of 80.4% 20 way one-shot learning accuracy \n",
      "\n",
      "\n",
      " ------------- \n",
      "\n",
      "Time for 12000 iterations: 47.9050748705864 mins\n",
      "Train Loss: 0.2915339469909668\n",
      "Evaluating model on 250 random 20 way one-shot learning tasks ... \n",
      "\n",
      "Got an average of 75.6% 20 way one-shot learning accuracy \n",
      "\n",
      "\n",
      " ------------- \n",
      "\n",
      "Time for 12200 iterations: 48.87120125691096 mins\n",
      "Train Loss: 0.18644201755523682\n",
      "Evaluating model on 250 random 20 way one-shot learning tasks ... \n",
      "\n",
      "Got an average of 77.2% 20 way one-shot learning accuracy \n",
      "\n",
      "\n",
      " ------------- \n",
      "\n",
      "Time for 12400 iterations: 49.86221316258113 mins\n",
      "Train Loss: 0.28646302223205566\n",
      "Evaluating model on 250 random 20 way one-shot learning tasks ... \n",
      "\n",
      "Got an average of 82.8% 20 way one-shot learning accuracy \n",
      "\n",
      "\n",
      " ------------- \n",
      "\n",
      "Time for 12600 iterations: 50.84511469999949 mins\n",
      "Train Loss: 0.38878166675567627\n",
      "Evaluating model on 250 random 20 way one-shot learning tasks ... \n",
      "\n",
      "Got an average of 81.2% 20 way one-shot learning accuracy \n",
      "\n",
      "\n",
      " ------------- \n",
      "\n",
      "Time for 12800 iterations: 51.81933356523514 mins\n",
      "Train Loss: 0.16883021593093872\n",
      "Evaluating model on 250 random 20 way one-shot learning tasks ... \n",
      "\n",
      "Got an average of 82.0% 20 way one-shot learning accuracy \n",
      "\n",
      "\n",
      " ------------- \n",
      "\n",
      "Time for 13000 iterations: 52.786018009980516 mins\n",
      "Train Loss: 0.18298307061195374\n",
      "Evaluating model on 250 random 20 way one-shot learning tasks ... \n",
      "\n",
      "Got an average of 76.4% 20 way one-shot learning accuracy \n",
      "\n",
      "\n",
      " ------------- \n",
      "\n",
      "Time for 13200 iterations: 53.76769077380498 mins\n",
      "Train Loss: 0.17234963178634644\n",
      "Evaluating model on 250 random 20 way one-shot learning tasks ... \n",
      "\n",
      "Got an average of 75.6% 20 way one-shot learning accuracy \n",
      "\n",
      "\n",
      " ------------- \n",
      "\n",
      "Time for 13400 iterations: 54.74829808870951 mins\n",
      "Train Loss: 0.2697446942329407\n",
      "Evaluating model on 250 random 20 way one-shot learning tasks ... \n",
      "\n",
      "Got an average of 79.6% 20 way one-shot learning accuracy \n",
      "\n",
      "\n",
      " ------------- \n",
      "\n",
      "Time for 13600 iterations: 55.7214084426562 mins\n",
      "Train Loss: 0.236908957362175\n",
      "Evaluating model on 250 random 20 way one-shot learning tasks ... \n",
      "\n",
      "Got an average of 77.6% 20 way one-shot learning accuracy \n",
      "\n",
      "\n",
      " ------------- \n",
      "\n",
      "Time for 13800 iterations: 56.691414193312326 mins\n",
      "Train Loss: 0.17415796220302582\n",
      "Evaluating model on 250 random 20 way one-shot learning tasks ... \n",
      "\n",
      "Got an average of 78.0% 20 way one-shot learning accuracy \n",
      "\n",
      "\n",
      " ------------- \n",
      "\n",
      "Time for 14000 iterations: 57.63768688837687 mins\n",
      "Train Loss: 0.17328718304634094\n",
      "Evaluating model on 250 random 20 way one-shot learning tasks ... \n",
      "\n",
      "Got an average of 82.4% 20 way one-shot learning accuracy \n",
      "\n",
      "\n",
      " ------------- \n",
      "\n",
      "Time for 14200 iterations: 58.60527905623118 mins\n",
      "Train Loss: 0.15840964019298553\n",
      "Evaluating model on 250 random 20 way one-shot learning tasks ... \n",
      "\n",
      "Got an average of 80.0% 20 way one-shot learning accuracy \n",
      "\n",
      "\n",
      " ------------- \n",
      "\n",
      "Time for 14400 iterations: 59.55581917365392 mins\n",
      "Train Loss: 0.19375765323638916\n",
      "Evaluating model on 250 random 20 way one-shot learning tasks ... \n",
      "\n",
      "Got an average of 82.8% 20 way one-shot learning accuracy \n",
      "\n",
      "\n",
      " ------------- \n",
      "\n",
      "Time for 14600 iterations: 60.524974743525185 mins\n",
      "Train Loss: 0.1330564022064209\n",
      "Evaluating model on 250 random 20 way one-shot learning tasks ... \n",
      "\n",
      "Got an average of 79.6% 20 way one-shot learning accuracy \n",
      "\n",
      "\n",
      " ------------- \n",
      "\n",
      "Time for 14800 iterations: 61.48297193447749 mins\n",
      "Train Loss: 0.17274560034275055\n",
      "Evaluating model on 250 random 20 way one-shot learning tasks ... \n",
      "\n",
      "Got an average of 82.8% 20 way one-shot learning accuracy \n",
      "\n",
      "\n",
      " ------------- \n",
      "\n",
      "Time for 15000 iterations: 62.44452493985494 mins\n",
      "Train Loss: 0.22082822024822235\n",
      "Evaluating model on 250 random 20 way one-shot learning tasks ... \n",
      "\n",
      "Got an average of 80.8% 20 way one-shot learning accuracy \n",
      "\n",
      "\n",
      " ------------- \n",
      "\n",
      "Time for 15200 iterations: 63.40321049292882 mins\n",
      "Train Loss: 0.17768001556396484\n",
      "Evaluating model on 250 random 20 way one-shot learning tasks ... \n",
      "\n",
      "Got an average of 82.4% 20 way one-shot learning accuracy \n",
      "\n",
      "\n",
      " ------------- \n",
      "\n",
      "Time for 15400 iterations: 64.35237707297007 mins\n",
      "Train Loss: 0.1928899586200714\n",
      "Evaluating model on 250 random 20 way one-shot learning tasks ... \n",
      "\n",
      "Got an average of 82.0% 20 way one-shot learning accuracy \n",
      "\n",
      "\n",
      " ------------- \n",
      "\n",
      "Time for 15600 iterations: 65.30086992581685 mins\n",
      "Train Loss: 0.17511355876922607\n",
      "Evaluating model on 250 random 20 way one-shot learning tasks ... \n",
      "\n",
      "Got an average of 77.2% 20 way one-shot learning accuracy \n",
      "\n",
      "\n",
      " ------------- \n",
      "\n",
      "Time for 15800 iterations: 66.25129677851994 mins\n",
      "Train Loss: 0.1419323980808258\n",
      "Evaluating model on 250 random 20 way one-shot learning tasks ... \n",
      "\n",
      "Got an average of 78.4% 20 way one-shot learning accuracy \n",
      "\n",
      "\n",
      " ------------- \n",
      "\n",
      "Time for 16000 iterations: 67.20012700160345 mins\n",
      "Train Loss: 0.1405922770500183\n",
      "Evaluating model on 250 random 20 way one-shot learning tasks ... \n",
      "\n",
      "Got an average of 79.6% 20 way one-shot learning accuracy \n",
      "\n",
      "\n",
      " ------------- \n",
      "\n",
      "Time for 16200 iterations: 68.14612990617752 mins\n",
      "Train Loss: 0.2055901288986206\n",
      "Evaluating model on 250 random 20 way one-shot learning tasks ... \n",
      "\n",
      "Got an average of 81.2% 20 way one-shot learning accuracy \n",
      "\n",
      "\n",
      " ------------- \n",
      "\n",
      "Time for 16400 iterations: 69.09044852256775 mins\n",
      "Train Loss: 0.15699319541454315\n",
      "Evaluating model on 250 random 20 way one-shot learning tasks ... \n",
      "\n",
      "Got an average of 81.6% 20 way one-shot learning accuracy \n",
      "\n",
      "\n",
      " ------------- \n",
      "\n",
      "Time for 16600 iterations: 70.04142566521962 mins\n",
      "Train Loss: 0.3170184791088104\n",
      "Evaluating model on 250 random 20 way one-shot learning tasks ... \n",
      "\n",
      "Got an average of 83.6% 20 way one-shot learning accuracy \n",
      "\n",
      "\n",
      " ------------- \n",
      "\n",
      "Time for 16800 iterations: 70.98327932357788 mins\n",
      "Train Loss: 0.20108036696910858\n",
      "Evaluating model on 250 random 20 way one-shot learning tasks ... \n",
      "\n",
      "Got an average of 81.2% 20 way one-shot learning accuracy \n",
      "\n",
      "\n",
      " ------------- \n",
      "\n",
      "Time for 17000 iterations: 71.92260696490605 mins\n",
      "Train Loss: 0.13820725679397583\n",
      "Evaluating model on 250 random 20 way one-shot learning tasks ... \n",
      "\n",
      "Got an average of 80.8% 20 way one-shot learning accuracy \n",
      "\n",
      "\n",
      " ------------- \n",
      "\n",
      "Time for 17200 iterations: 72.86329008340836 mins\n",
      "Train Loss: 0.1703227460384369\n",
      "Evaluating model on 250 random 20 way one-shot learning tasks ... \n",
      "\n",
      "Got an average of 75.6% 20 way one-shot learning accuracy \n",
      "\n",
      "\n",
      " ------------- \n",
      "\n",
      "Time for 17400 iterations: 73.80078484217326 mins\n",
      "Train Loss: 0.15348494052886963\n",
      "Evaluating model on 250 random 20 way one-shot learning tasks ... \n",
      "\n",
      "Got an average of 80.8% 20 way one-shot learning accuracy \n",
      "\n",
      "\n",
      " ------------- \n",
      "\n",
      "Time for 17600 iterations: 74.74327343304952 mins\n",
      "Train Loss: 0.21324829757213593\n",
      "Evaluating model on 250 random 20 way one-shot learning tasks ... \n",
      "\n",
      "Got an average of 82.8% 20 way one-shot learning accuracy \n",
      "\n",
      "\n",
      " ------------- \n",
      "\n",
      "Time for 17800 iterations: 75.68712895313898 mins\n",
      "Train Loss: 0.13166753947734833\n",
      "Evaluating model on 250 random 20 way one-shot learning tasks ... \n",
      "\n",
      "Got an average of 86.8% 20 way one-shot learning accuracy \n",
      "\n",
      "Current best: 86.8, previous best: 85.6\n",
      "\n",
      " ------------- \n",
      "\n",
      "Time for 18000 iterations: 76.62306222120921 mins\n",
      "Train Loss: 0.15717214345932007\n",
      "Evaluating model on 250 random 20 way one-shot learning tasks ... \n",
      "\n",
      "Got an average of 83.6% 20 way one-shot learning accuracy \n",
      "\n",
      "\n",
      " ------------- \n",
      "\n",
      "Time for 18200 iterations: 77.57501084009806 mins\n",
      "Train Loss: 0.20965346693992615\n",
      "Evaluating model on 250 random 20 way one-shot learning tasks ... \n",
      "\n",
      "Got an average of 79.6% 20 way one-shot learning accuracy \n",
      "\n",
      "\n",
      " ------------- \n",
      "\n",
      "Time for 18400 iterations: 78.52287137508392 mins\n",
      "Train Loss: 0.18933513760566711\n",
      "Evaluating model on 250 random 20 way one-shot learning tasks ... \n",
      "\n",
      "Got an average of 83.2% 20 way one-shot learning accuracy \n",
      "\n",
      "\n",
      " ------------- \n",
      "\n",
      "Time for 18600 iterations: 79.47813203732173 mins\n",
      "Train Loss: 0.320242315530777\n",
      "Evaluating model on 250 random 20 way one-shot learning tasks ... \n",
      "\n",
      "Got an average of 80.0% 20 way one-shot learning accuracy \n",
      "\n",
      "\n",
      " ------------- \n",
      "\n",
      "Time for 18800 iterations: 80.42887769142787 mins\n",
      "Train Loss: 0.1373823881149292\n",
      "Evaluating model on 250 random 20 way one-shot learning tasks ... \n",
      "\n",
      "Got an average of 85.6% 20 way one-shot learning accuracy \n",
      "\n",
      "\n",
      " ------------- \n",
      "\n",
      "Time for 19000 iterations: 81.39182092746098 mins\n",
      "Train Loss: 0.3346301019191742\n",
      "Evaluating model on 250 random 20 way one-shot learning tasks ... \n",
      "\n",
      "Got an average of 86.4% 20 way one-shot learning accuracy \n",
      "\n",
      "\n",
      " ------------- \n",
      "\n",
      "Time for 19200 iterations: 82.34204566081365 mins\n",
      "Train Loss: 0.17984776198863983\n",
      "Evaluating model on 250 random 20 way one-shot learning tasks ... \n",
      "\n",
      "Got an average of 77.2% 20 way one-shot learning accuracy \n",
      "\n",
      "\n",
      " ------------- \n",
      "\n",
      "Time for 19400 iterations: 83.29730740388234 mins\n",
      "Train Loss: 0.13799110054969788\n",
      "Evaluating model on 250 random 20 way one-shot learning tasks ... \n",
      "\n",
      "Got an average of 81.2% 20 way one-shot learning accuracy \n",
      "\n",
      "\n",
      " ------------- \n",
      "\n",
      "Time for 19600 iterations: 84.23983018398285 mins\n",
      "Train Loss: 0.28643524646759033\n",
      "Evaluating model on 250 random 20 way one-shot learning tasks ... \n",
      "\n",
      "Got an average of 82.8% 20 way one-shot learning accuracy \n",
      "\n",
      "\n",
      " ------------- \n",
      "\n",
      "Time for 19800 iterations: 85.17584600845973 mins\n",
      "Train Loss: 0.1426062136888504\n",
      "Evaluating model on 250 random 20 way one-shot learning tasks ... \n",
      "\n",
      "Got an average of 80.0% 20 way one-shot learning accuracy \n",
      "\n",
      "\n",
      " ------------- \n",
      "\n",
      "Time for 20000 iterations: 86.1171775817871 mins\n",
      "Train Loss: 0.31678733229637146\n",
      "Evaluating model on 250 random 20 way one-shot learning tasks ... \n",
      "\n",
      "Got an average of 82.4% 20 way one-shot learning accuracy \n",
      "\n"
     ]
    }
   ],
   "source": [
    "print(\"Starting training process!\")\n",
    "print(\"-------------------------------------\")\n",
    "t_start = time.time()\n",
    "for i in range(2201, n_iter+1):\n",
    "    (inputs,targets) = get_batch(batch_size,Xtrain,Xval,train_classes,val_classes)\n",
    "    loss = model.train_on_batch(inputs, targets)\n",
    "    if i % evaluate_every == 0:\n",
    "        print(\"\\n ------------- \\n\")\n",
    "        print(\"Time for {0} iterations: {1} mins\".format(i, (time.time()-t_start)/60.0))\n",
    "        print(\"Train Loss: {0}\".format(loss)) \n",
    "        val_acc , _ = test_oneshot(model,Xtrain,Xval,train_classes,val_classes, N_way, n_val, verbose=True)\n",
    "        model.save_weights(os.path.join(model_checkpoints, 'weights.{}.h5'.format(i)))\n",
    "        if val_acc >= best:\n",
    "            print(\"Current best: {0}, previous best: {1}\".format(val_acc, best))\n",
    "            #model.save_weights(os.path.join(model_checkpoints, 'weights.{}.h5'.format(i)))\n",
    "            best = val_acc"
   ]
  },
  {
   "cell_type": "markdown",
   "metadata": {
    "id": "g6D4dRj_DVgZ"
   },
   "source": [
    "## **Testing** "
   ]
  },
  {
   "cell_type": "code",
   "execution_count": 172,
   "metadata": {},
   "outputs": [
    {
     "name": "stdout",
     "output_type": "stream",
     "text": [
      "(2, 5, 105, 105, 1)\n",
      "[0. 1. 0. 0. 0.]\n",
      "1\n"
     ]
    }
   ],
   "source": [
    "pairs,targets=make_oneshot_task(5,Xtrain,Xval,train_classes,val_classes) #5 way one shot testing and we are taking these images \n",
    "#from the data on which our model is  not trained and creating 5 way single shot support set\n",
    "print(np.array(pairs).shape) \n",
    "print(targets)\n",
    "print(np.argmax(targets))"
   ]
  },
  {
   "cell_type": "code",
   "execution_count": 173,
   "metadata": {},
   "outputs": [],
   "source": [
    "#val_acc , probs = test_oneshot(model,Xtrain,Xval,train_classes,val_classes, 5, 1, verbose=True)\n",
    "probs = model.predict(pairs)"
   ]
  },
  {
   "cell_type": "code",
   "execution_count": 174,
   "metadata": {},
   "outputs": [
    {
     "data": {
      "text/plain": [
       "1"
      ]
     },
     "execution_count": 174,
     "metadata": {},
     "output_type": "execute_result"
    }
   ],
   "source": [
    "np.argmax(probs)"
   ]
  },
  {
   "cell_type": "code",
   "execution_count": 184,
   "metadata": {},
   "outputs": [
    {
     "name": "stdout",
     "output_type": "stream",
     "text": [
      "Actual Similar images index 3 Predicted similar images index 3\n"
     ]
    },
    {
     "data": {
      "image/png": "[encoded data removed]",
      "text/plain": [
       "<Figure size 504x504 with 10 Axes>"
      ]
     },
     "metadata": {
      "needs_background": "light"
     },
     "output_type": "display_data"
    },
    {
     "name": "stdout",
     "output_type": "stream",
     "text": [
      "Actual Similar images index 0 Predicted similar images index 0\n"
     ]
    },
    {
     "data": {
      "image/png": "[encoded data removed]",
      "text/plain": [
       "<Figure size 504x504 with 10 Axes>"
      ]
     },
     "metadata": {
      "needs_background": "light"
     },
     "output_type": "display_data"
    },
    {
     "name": "stdout",
     "output_type": "stream",
     "text": [
      "Actual Similar images index 3 Predicted similar images index 3\n"
     ]
    },
    {
     "data": {
      "image/png": "[encoded data removed]",
      "text/plain": [
       "<Figure size 504x504 with 10 Axes>"
      ]
     },
     "metadata": {
      "needs_background": "light"
     },
     "output_type": "display_data"
    },
    {
     "name": "stdout",
     "output_type": "stream",
     "text": [
      "Actual Similar images index 4 Predicted similar images index 4\n"
     ]
    },
    {
     "data": {
      "image/png": "[encoded data removed]",
      "text/plain": [
       "<Figure size 504x504 with 10 Axes>"
      ]
     },
     "metadata": {
      "needs_background": "light"
     },
     "output_type": "display_data"
    },
    {
     "name": "stdout",
     "output_type": "stream",
     "text": [
      "Actual Similar images index 1 Predicted similar images index 1\n"
     ]
    },
    {
     "data": {
      "image/png": "[encoded data removed]",
      "text/plain": [
       "<Figure size 504x504 with 10 Axes>"
      ]
     },
     "metadata": {
      "needs_background": "light"
     },
     "output_type": "display_data"
    }
   ],
   "source": [
    "#plot 1:\n",
    "def plotting(pairs):\n",
    "    fig,a =  plt.subplots(5,2,figsize=(7,7))\n",
    "    for i in range(0,5):\n",
    "        a[i][0].imshow(pairs[0][i].reshape(105,105),cmap='gray')\n",
    "        a[i][1].imshow(pairs[1][i].reshape(105,105),cmap='gray')\n",
    "        \n",
    "#fig=plt.figure(figsize=(15,15))\n",
    "for i in range(0,5):\n",
    "    pairs,targets=make_oneshot_task(5,Xtrain,Xval,train_classes,val_classes)\n",
    "    probs = model.predict(pairs)\n",
    "    pred_max,act_max=np.argmax(probs),np.argmax(targets)\n",
    "    print(\"Actual Similar images index {}\".format(act_max),'Predicted similar images index {}'.format(pred_max))\n",
    "    plotting(pairs)\n",
    "    plt.show()\n",
    "\n"
   ]
  },
  {
   "cell_type": "code",
   "execution_count": null,
   "metadata": {},
   "outputs": [],
   "source": []
  }
 ],
 "metadata": {
  "colab": {
   "authorship_tag": "ABX9TyNbOuWjLFtfSl9w6uIg2FPT",
   "name": "Siamese_Network.ipynb",
   "provenance": []
  },
  "kernelspec": {
   "display_name": "Python 3",
   "language": "python",
   "name": "python3"
  },
  "language_info": {
   "codemirror_mode": {
    "name": "ipython",
    "version": 3
   },
   "file_extension": ".py",
   "mimetype": "text/x-python",
   "name": "python",
   "nbconvert_exporter": "python",
   "pygments_lexer": "ipython3",
   "version": "3.6.5"
  }
 },
 "nbformat": 4,
 "nbformat_minor": 1
}
